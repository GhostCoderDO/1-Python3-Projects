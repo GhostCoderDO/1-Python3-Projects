{
 "cells": [
  {
   "cell_type": "markdown",
   "id": "15bb9a2d",
   "metadata": {},
   "source": [
    "# 1_______________(Hacker Rank):\n",
    "##"
   ]
  },
  {
   "cell_type": "markdown",
   "id": "e003cbe9",
   "metadata": {},
   "source": [
    "#### The text describes a specific algorithm to transform each string in a sentence based on the relationship between each character and its preceding character in the English alphabet. Here's a breakdown of the algorithm:\n",
    "\n",
    "#### Keep the first character of each string unchanged.\n",
    "#### For each subsequent character, compare it to the preceding character in the English alphabet.\n",
    "#### If the preceding character comes before the current character, transform the current character to uppercase.\n",
    "#### If the preceding character comes after the current character, transform the current character to lowercase.\n",
    "#### If the preceding and current characters are the same, leave the character unchanged.\n",
    "#### Based on this algorithm, you would iterate over each character in each string of the sentence, perform the transformations according to the specified rules, and then return the modified sentence.\n",
    "\n",
    "#### For example, using the sentence \"coOL dog\", you would transform it as follows:\n",
    "\n",
    "#### \"c\" remains unchanged.\n",
    "#### \"o\" is made uppercase because \"c\" comes before \"o\" in the alphabet.\n",
    "#### \"O\" remains unchanged because it's the same as the preceding character.\n",
    "#### \"L\" is made lowercase because \"O\" comes before \"L\" in the alphabet.\n",
    "#### For the second word \"dog\", the transformations are done similarly.\n",
    "#### After applying the transformations, the resulting sentence would be \"cool dog\". \n",
    "####"
   ]
  },
  {
   "cell_type": "code",
   "execution_count": 1,
   "id": "e3ebeb71",
   "metadata": {},
   "outputs": [
    {
     "name": "stdout",
     "output_type": "stream",
     "text": [
      "Enter sentence: Rayyan Ahmed\n",
      "RaYyaN AHMed\n"
     ]
    }
   ],
   "source": [
    "def transform_sentence(sentence):\n",
    "    result = []\n",
    "    for word in sentence.split():\n",
    "        transformed_word = word[0]  # Keep the first character unchanged\n",
    "        for i in range(1, len(word)):\n",
    "            current_char = word[i]\n",
    "            preceding_char = word[i - 1]\n",
    "            if preceding_char.lower() < current_char.lower():\n",
    "                transformed_word += current_char.upper()\n",
    "            elif preceding_char.lower() > current_char.lower():\n",
    "                transformed_word += current_char.lower()\n",
    "            else:\n",
    "                transformed_word += current_char  # Leave unchanged if equal\n",
    "        result.append(transformed_word)\n",
    "    return ' '.join(result)\n",
    "\n",
    "# Example usage:\n",
    "sentence = str(input('Enter sentence: '))\n",
    "result = transform_sentence(sentence)\n",
    "print(result)  \n",
    "    "
   ]
  }
 ],
 "metadata": {
  "kernelspec": {
   "display_name": "Python 3 (ipykernel)",
   "language": "python",
   "name": "python3"
  },
  "language_info": {
   "codemirror_mode": {
    "name": "ipython",
    "version": 3
   },
   "file_extension": ".py",
   "mimetype": "text/x-python",
   "name": "python",
   "nbconvert_exporter": "python",
   "pygments_lexer": "ipython3",
   "version": "3.11.5"
  }
 },
 "nbformat": 4,
 "nbformat_minor": 5
}
